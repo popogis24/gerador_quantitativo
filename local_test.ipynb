{
 "cells": [
  {
   "cell_type": "code",
   "execution_count": 1,
   "metadata": {},
   "outputs": [
    {
     "name": "stdout",
     "output_type": "stream",
     "text": [
      "Finalizado com sucesso!\n"
     ]
    }
   ],
   "source": [
    "#### Test-01\n",
    "#### Run Normal Pipeline\n",
    "\n",
    "from scripts.pipelines.pipeline import Pipeline\n",
    "\n",
    "analyzed_product = r'C:\\refact_gerador\\Dados_Lote14.gdb\\Tracados\\Tracado_Segmentado_OurolandiaII_JussiapeC1'\n",
    "analyzed_product_area = r'C:\\refact_gerador\\Dados_Lote14.gdb\\Tracados\\Area_Intervencao_LT500kV_OurolandiaII_Jussiape_C1'\n",
    "storage_dataset = r'C:\\refact_gerador\\Dados_Lote14.gdb\\storage_dataset'\n",
    "workspace = r'C:\\refact_gerador\\workspace'\n",
    "#theme_list = [\"C:\\\\refact_gerador\\\\Dados_Lote14.gdb\\\\temas\\\\APCB_Caatinga\"]\n",
    "theme_list = [r'C:\\refact_gerador\\Dados_Lote14.gdb\\temas\\Unidades_de_Conservacao_MMA', r'C:\\refact_gerador\\Dados_Lote14.gdb\\temas\\Sitios_Arqueologicos_IPHAN']\n",
    "extra_theme = ''\n",
    "extra_theme_field = ''\n",
    "extra_theme_analysis = ''\n",
    "geodesic = 'true'\n",
    "extra_theme_description = ''\n",
    "excel_file_folder = r'C:\\refact_gerador\\excel'\n",
    "circuito_duplo = \"\"\n",
    "\n",
    "pipeline = Pipeline(analyzed_product, analyzed_product_area,\n",
    "                 theme_list, extra_theme, extra_theme_field, \n",
    "                 extra_theme_analysis, geodesic, excel_file_folder,circuito_duplo)\n",
    "\n",
    "pipeline.understand_input_parameters()\n",
    "pipeline.delete_workspace_folder()\n",
    "\n",
    "print('Finalizado com sucesso!')\n"
   ]
  },
  {
   "cell_type": "code",
   "execution_count": 2,
   "metadata": {},
   "outputs": [
    {
     "name": "stdout",
     "output_type": "stream",
     "text": [
      "Finalizado com sucesso!\n"
     ]
    }
   ],
   "source": [
    "#### Test-02\n",
    "#### Run Extra Theme Pipeline\n",
    "\n",
    "from scripts.pipelines.pipeline import Pipeline\n",
    "analyzed_product = r'C:\\refact_gerador\\Dados_Lote14.gdb\\Tracados\\Tracado_Segmentado_OurolandiaII_JussiapeC1'\n",
    "analyzed_product_area = r'C:\\refact_gerador\\Dados_Lote14.gdb\\Tracados\\Area_Intervencao_LT500kV_OurolandiaII_Jussiape_C1'\n",
    "storage_dataset = r'C:\\refact_gerador\\Dados_Lote14.gdb\\storage_dataset'\n",
    "workspace = r'C:\\refact_gerador\\workspace'\n",
    "theme_list = \"\"\n",
    "extra_theme = r'C:\\refact_gerador\\Dados_Lote14.gdb\\temas\\Biomas'\n",
    "extra_theme_field = 'Bioma'\n",
    "extra_theme_analysis = ['NM_UF','NM_MUN','Area','Extensao','Distancia']\n",
    "geodesic = 'true'\n",
    "extra_theme_description = '' \n",
    "excel_file_folder = r'C:\\refact_gerador\\excel'\n",
    "circuito_duplo = \"\"\n",
    "\n",
    "pipeline = Pipeline(analyzed_product, analyzed_product_area,\n",
    "                 theme_list, extra_theme, extra_theme_field, \n",
    "                 extra_theme_analysis, geodesic, excel_file_folder,circuito_duplo)\n",
    "\n",
    "pipeline.understand_input_parameters()\n",
    "print('Finalizado com sucesso!')\n",
    "\n"
   ]
  },
  {
   "cell_type": "code",
   "execution_count": 3,
   "metadata": {},
   "outputs": [
    {
     "name": "stdout",
     "output_type": "stream",
     "text": [
      "Finalizado com sucesso!\n"
     ]
    }
   ],
   "source": [
    "#### Test-03\n",
    "#### Run Extra Theme Pipeline with a theme that already exist in the database\n",
    "\n",
    "from scripts.pipelines.pipeline import Pipeline\n",
    "analyzed_product = r'C:\\refact_gerador\\Dados_Lote14.gdb\\Tracados\\Tracado_Segmentado_OurolandiaII_JussiapeC1'\n",
    "analyzed_product_area = r'C:\\refact_gerador\\Dados_Lote14.gdb\\Tracados\\Area_Intervencao_LT500kV_OurolandiaII_Jussiape_C1'\n",
    "storage_dataset = r'C:\\refact_gerador\\Dados_Lote14.gdb\\storage_dataset'\n",
    "workspace = r'C:\\refact_gerador\\workspace'\n",
    "theme_list = \"\"\n",
    "extra_theme = r'C:\\refact_gerador\\Dados_Lote14.gdb\\temas\\Aerodromos'\n",
    "extra_theme_field = 'Codigo_OAC;Tipo;Denominaca'\n",
    "extra_theme_analysis = ['NM_UF','NM_MUN','Area','Extensao','Distancia']\n",
    "geodesic = 'true'\n",
    "excel_file_folder = r'C:\\refact_gerador\\excel'\n",
    "circuito_duplo = \"\"\n",
    "\n",
    "pipeline = Pipeline(analyzed_product, analyzed_product_area,\n",
    "                 theme_list, extra_theme, extra_theme_field, \n",
    "                 extra_theme_analysis, geodesic, excel_file_folder,circuito_duplo)\n",
    "\n",
    "pipeline.understand_input_parameters()\n",
    "print('Finalizado com sucesso!')\n",
    "\n"
   ]
  }
 ],
 "metadata": {
  "kernelspec": {
   "display_name": "venv",
   "language": "python",
   "name": "python3"
  },
  "language_info": {
   "codemirror_mode": {
    "name": "ipython",
    "version": 3
   },
   "file_extension": ".py",
   "mimetype": "text/x-python",
   "name": "python",
   "nbconvert_exporter": "python",
   "pygments_lexer": "ipython3",
   "version": "3.12.0"
  }
 },
 "nbformat": 4,
 "nbformat_minor": 2
}
